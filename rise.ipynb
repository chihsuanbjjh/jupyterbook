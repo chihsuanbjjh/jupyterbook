{
 "cells": [
  {
   "cell_type": "markdown",
   "metadata": {
    "slideshow": {
     "slide_type": "slide"
    }
   },
   "source": [
    "# Colab"
   ]
  },
  {
   "cell_type": "markdown",
   "metadata": {
    "cell_style": "center",
    "slideshow": {
     "slide_type": "subslide"
    }
   },
   "source": [
    "![](https://i.imgur.com/cDhAAri.png)\n"
   ]
  },
  {
   "cell_type": "markdown",
   "metadata": {
    "slideshow": {
     "slide_type": "subslide"
    }
   },
   "source": [
    "![](https://i.imgur.com/4negEwm.png)\n"
   ]
  },
  {
   "cell_type": "markdown",
   "metadata": {
    "slideshow": {
     "slide_type": "slide"
    }
   },
   "source": [
    "# 程式碼區塊"
   ]
  },
  {
   "cell_type": "markdown",
   "metadata": {
    "colab_type": "text",
    "id": "vZuqK9uM1jt5",
    "slideshow": {
     "slide_type": "subslide"
    }
   },
   "source": [
    "<font color=#000000>新增程式碼區塊並輸入下列程式碼(建議手動輸入)</font>\n",
    "```python\n",
    "print('Hello Gauss')\n",
    "```\n",
    "> 新增程式碼區塊的方式\n",
    "> * 按下上方的 `+程式碼`\n",
    "> * 也可以用快速鍵  `Ctrl+M -> B`\n"
   ]
  },
  {
   "cell_type": "markdown",
   "metadata": {
    "slideshow": {
     "slide_type": "subslide"
    }
   },
   "source": [
    "<font color=#000000>執行剛剛打的程式碼</font>\n",
    "\n",
    "> 執行程式碼的方式\n",
    "> * 按下程式碼區塊左邊的箭頭\n",
    "> * 也可以用快速鍵 `Ctrl+Enter`、`Alt+Enter`、`Shift+Enter`"
   ]
  },
  {
   "cell_type": "markdown",
   "metadata": {},
   "source": [
    "Python對字串(文字)的認定有單引號('')及雙引號(\"\")二種"
   ]
  },
  {
   "cell_type": "code",
   "execution_count": 1,
   "metadata": {
    "collapsed": true,
    "slideshow": {
     "slide_type": "subslide"
    }
   },
   "outputs": [
    {
     "name": "stdout",
     "output_type": "stream",
     "text": [
      "Hello Gauss\n",
      "Hello Gauss\n",
      "'Hello Gauss'\n"
     ]
    }
   ],
   "source": [
    "print('Hello Gauss')\n",
    "print(\"Hello Gauss\") # 雙引號也可以\n",
    "print(\"'Hello Gauss'\")"
   ]
  },
  {
   "cell_type": "markdown",
   "metadata": {
    "slideshow": {
     "slide_type": "slide"
    }
   },
   "source": [
    "# 文字區塊"
   ]
  },
  {
   "cell_type": "markdown",
   "metadata": {
    "colab_type": "text",
    "id": "Bcjjw3Fzle-f",
    "slideshow": {
     "slide_type": "subslide"
    }
   },
   "source": [
    "<font color=#000000>新增文字區塊、輸入(高斯)</font>\n",
    "\n",
    "> 新增文字區塊\n",
    "> * 按下`+文字`\n"
   ]
  },
  {
   "cell_type": "markdown",
   "metadata": {
    "slideshow": {
     "slide_type": "subslide"
    }
   },
   "source": [
    "將高斯設為標題一\n",
    "\n",
    "\n",
    "> 設定標題與決定標題層級\n",
    "* 在文字前加上`#`\n",
    "* `#`與文字要空一格\n",
    "* 標題的層級由`#`的數量來決定"
   ]
  },
  {
   "cell_type": "markdown",
   "metadata": {
    "slideshow": {
     "slide_type": "slide"
    }
   },
   "source": [
    "## 在文字區塊裡新增圖片"
   ]
  },
  {
   "cell_type": "markdown",
   "metadata": {
    "colab_type": "text",
    "id": "nEuGk_rIk5Kw",
    "slideshow": {
     "slide_type": "subslide"
    }
   },
   "source": [
    "<font color=#000000>請找一個介紹數學家“高斯(Gauss)“的圖片，並利用文字區塊增加此圖片</font>\n",
    "> [高斯 wiki介紹](https://zh.wikipedia.org/wiki/%E5%8D%A1%E7%88%BE%C2%B7%E5%BC%97%E9%87%8C%E5%BE%B7%E9%87%8C%E5%B8%8C%C2%B7%E9%AB%98%E6%96%AF)\n",
    "\n",
    "> 新增圖片的方式\n",
    "1. 利用圖片網址的方式： `![](圖片網址)`\n",
    "2. 已有圖片的方式：利用 [Hackmd](https://hackmd.io/?nav=overview)"
   ]
  },
  {
   "cell_type": "markdown",
   "metadata": {
    "slideshow": {
     "slide_type": "slide"
    }
   },
   "source": [
    "## 在文字區塊裡新增Youtube影片"
   ]
  },
  {
   "cell_type": "markdown",
   "metadata": {
    "colab_type": "text",
    "id": "xV2EOVqPH_Os",
    "slideshow": {
     "slide_type": "subslide"
    }
   },
   "source": [
    "<font color=#000000>請找一個介紹數學家“高斯(Gauss)“的youtube影片，並利用文字區塊為這部影片下一個標題</font>\n",
    "\n",
    "> [高斯 youtube](https://www.youtube.com/results?search_query=Gauss+math)"
   ]
  },
  {
   "cell_type": "markdown",
   "metadata": {
    "colab_type": "text",
    "id": "7HjCBV5UDhLm",
    "slideshow": {
     "slide_type": "subslide"
    }
   },
   "source": [
    "<font color=#000000>把下列程式碼貼至一個新的程式碼區塊，再複製Youtube影片的內嵌碼，貼到程式碼中`embed_url = `的後面，內嵌碼記得用`單引號`包起來</font>\n",
    "\n",
    "\n",
    "```python\n",
    "from IPython.display import HTML\n",
    "# 網址記得用\"\"包起來\n",
    "embed_url = \n",
    "url = '<iframe '+ embed_url+' ></iframe>'\n",
    " \n",
    "HTML(url)\n",
    "```"
   ]
  },
  {
   "cell_type": "markdown",
   "metadata": {
    "colab_type": "text",
    "id": "HwY7RbxNASxB",
    "slideshow": {
     "slide_type": "slide"
    }
   },
   "source": [
    "<font color=#000000>新增分隔線</font>\n",
    "* 點選分隔線圖示  \n",
    "* 輸入`---`"
   ]
  },
  {
   "cell_type": "markdown",
   "metadata": {
    "colab_type": "text",
    "id": "UeO6kxnSJbAX",
    "slideshow": {
     "slide_type": "subslide"
    }
   },
   "source": [
    "Python與高斯 -> `標題一`"
   ]
  },
  {
   "cell_type": "markdown",
   "metadata": {
    "colab_type": "text",
    "id": "0TLDIrrtynpS",
    "slideshow": {
     "slide_type": "subslide"
    }
   },
   "source": [
    "如何用Python計算加總 -> `標題二`"
   ]
  },
  {
   "cell_type": "markdown",
   "metadata": {
    "colab_type": "text",
    "id": "MTa7hw4E2QMM",
    "slideshow": {
     "slide_type": "subslide"
    }
   },
   "source": [
    "<font color=#000000>利用Latex語法顯示數學公式</font>\n",
    "\n",
    "> [Latex online editor](https://www.codecogs.com/latex/eqneditor.php)"
   ]
  },
  {
   "cell_type": "markdown",
   "metadata": {
    "colab_type": "text",
    "id": "MTa7hw4E2QMM",
    "slideshow": {
     "slide_type": "subslide"
    }
   },
   "source": [
    "<font color=#000000>隱藏程式碼</font>\n",
    "> 程式碼\n",
    "```python\n",
    "print('計算：1+2+...+10')\n",
    "print(1+2+3+4+5+6+7+8+9+10)\n",
    "```\n",
    "\n",
    "> 隱藏的方式：  \n",
    "> 『編輯』頁面裡的倒數第二個：`顯示/隱藏程式碼`"
   ]
  },
  {
   "cell_type": "markdown",
   "metadata": {
    "colab_type": "text",
    "id": "y1DqSJRoyrEo",
    "slideshow": {
     "slide_type": "subslide"
    }
   },
   "source": [
    "方法一：直接加起來(1+2+...+10) -> `標題三`"
   ]
  },
  {
   "cell_type": "code",
   "execution_count": 3,
   "metadata": {
    "colab": {},
    "colab_type": "code",
    "collapsed": true,
    "id": "nqa8aq2xImLe",
    "slideshow": {
     "slide_type": "subslide"
    }
   },
   "outputs": [
    {
     "name": "stdout",
     "output_type": "stream",
     "text": [
      "55\n"
     ]
    }
   ],
   "source": [
    "# 方法一：直接加起來(1+2+...+10)\n",
    "# 請試著完成程式\n",
    "\n",
    "\n"
   ]
  },
  {
   "cell_type": "markdown",
   "metadata": {
    "colab_type": "text",
    "id": "BPwO5msVytUp",
    "slideshow": {
     "slide_type": "subslide"
    }
   },
   "source": [
    "方法二：利用for loop完成  -> 標題三\n",
    "\n",
    "<設定有序> 利用for loop產生1到10\n",
    "\n",
    "<設定有序> 建立一個變數來累加for loop產生的1到10"
   ]
  },
  {
   "cell_type": "markdown",
   "metadata": {
    "colab_type": "text",
    "id": "zFbAbBzGKMXz",
    "slideshow": {
     "slide_type": "subslide"
    }
   },
   "source": [
    "step1：利用for loop產生1到10"
   ]
  },
  {
   "cell_type": "code",
   "execution_count": null,
   "metadata": {
    "colab": {},
    "colab_type": "code",
    "id": "swSpMAxl2Tou",
    "slideshow": {
     "slide_type": "subslide"
    }
   },
   "outputs": [],
   "source": [
    "# 請試著完成程式 利用for loop 產生 0~9\n",
    "\n"
   ]
  },
  {
   "cell_type": "code",
   "execution_count": null,
   "metadata": {
    "colab": {},
    "colab_type": "code",
    "id": "GgCIt1jevQ56",
    "slideshow": {
     "slide_type": "subslide"
    }
   },
   "outputs": [],
   "source": [
    "# 請試著完成程式 利用for loop 產生 1~10\n",
    "\n"
   ]
  },
  {
   "cell_type": "markdown",
   "metadata": {
    "colab_type": "text",
    "id": "aOysGijkKXWP",
    "slideshow": {
     "slide_type": "subslide"
    }
   },
   "source": [
    "step2：建立一個變數來累加for loop產生的1到10"
   ]
  },
  {
   "cell_type": "code",
   "execution_count": null,
   "metadata": {
    "colab": {},
    "colab_type": "code",
    "id": "5IvMQeZdKfdR",
    "slideshow": {
     "slide_type": "subslide"
    }
   },
   "outputs": [],
   "source": [
    "# 請試著完成程式\n",
    "\n"
   ]
  },
  {
   "cell_type": "markdown",
   "metadata": {
    "colab_type": "text",
    "id": "m71zYyMpvT6_",
    "slideshow": {
     "slide_type": "subslide"
    }
   },
   "source": [
    "<設定標題三：>方法三：利用公式完成  \n",
    "\n",
    "$$\\displaystyle S_{n}=\\frac{n(a+a_{n})}{2}$$"
   ]
  },
  {
   "cell_type": "code",
   "execution_count": null,
   "metadata": {
    "colab": {},
    "colab_type": "code",
    "id": "OtgxnMRvvX9Z",
    "slideshow": {
     "slide_type": "subslide"
    }
   },
   "outputs": [],
   "source": [
    "# 請試著完成程式\n",
    "\n"
   ]
  },
  {
   "cell_type": "markdown",
   "metadata": {
    "colab_type": "text",
    "id": "AYVIY30PMhJg",
    "slideshow": {
     "slide_type": "subslide"
    }
   },
   "source": [
    "計算程式執行的時間\n",
    "> %%time"
   ]
  },
  {
   "cell_type": "code",
   "execution_count": null,
   "metadata": {
    "colab": {},
    "colab_type": "code",
    "id": "FOK_SvgSMtcg",
    "slideshow": {
     "slide_type": "subslide"
    }
   },
   "outputs": [],
   "source": [
    "# for loop\n"
   ]
  },
  {
   "cell_type": "code",
   "execution_count": null,
   "metadata": {
    "colab": {},
    "colab_type": "code",
    "id": "zem2E02lMt6x",
    "slideshow": {
     "slide_type": "subslide"
    }
   },
   "outputs": [],
   "source": [
    "# 公式\n"
   ]
  },
  {
   "cell_type": "markdown",
   "metadata": {
    "slideshow": {
     "slide_type": "slide"
    }
   },
   "source": [
    "# 嵌入素材"
   ]
  },
  {
   "cell_type": "markdown",
   "metadata": {
    "colab_type": "text",
    "id": "f9_JsgtWaeJp",
    "slideshow": {
     "slide_type": "subslide"
    }
   },
   "source": [
    "<font color=#000000>**任務：**利用程式碼顯示/內嵌網頁</font>  \n",
    "\n",
    "程式碼\n",
    "```python \n",
    "from IPython.display import IFrame\n",
    "url = \n",
    "IFrame(url, width=1000, height=600)\n",
    "```"
   ]
  },
  {
   "cell_type": "markdown",
   "metadata": {
    "colab_type": "text",
    "id": "0_paZzKfVc11",
    "slideshow": {
     "slide_type": "subslide"
    }
   },
   "source": [
    "<設定標題三：>利用操作Geogebra來感受每一個元素對等差數列的影響\n",
    "\n",
    "<設定引言：>資料來源：https://www.geogebra.org/m/PaFSRzVv"
   ]
  },
  {
   "cell_type": "code",
   "execution_count": null,
   "metadata": {
    "colab": {},
    "colab_type": "code",
    "id": "paqtvtlFWbdj",
    "slideshow": {
     "slide_type": "subslide"
    }
   },
   "outputs": [],
   "source": [
    "from IPython.display import IFrame\n",
    "url = 'https://www.geogebra.org/m/PaFSRzVv'\n",
    "IFrame(url, width=1000, height=600)"
   ]
  },
  {
   "cell_type": "markdown",
   "metadata": {
    "colab_type": "text",
    "id": "inmL9urliohg",
    "slideshow": {
     "slide_type": "subslide"
    }
   },
   "source": [
    "<設定標題三：>利用Python視覺化網站來感受每一行程式執行的結果\n",
    "\n",
    "<設定引言：>資料來源：https://cscircles.cemc.uwaterloo.ca/visualize#mode=edit"
   ]
  },
  {
   "cell_type": "code",
   "execution_count": null,
   "metadata": {
    "colab": {},
    "colab_type": "code",
    "id": "mR3wsnfc3XMb",
    "slideshow": {
     "slide_type": "subslide"
    }
   },
   "outputs": [],
   "source": [
    "# 可以選擇隱藏程式碼 編輯 -> 顯示/隱藏程式碼\n",
    "# https://cscircles.cemc.uwaterloo.ca/visualize#mode=edit\n",
    "from IPython.display import IFrame\n",
    "url = 'https://cscircles.cemc.uwaterloo.ca/visualize#code=sum+%3D+0%0Afor+i+in+range(10)%3A%0A+++print(i)%0A+++sum+%3D+sum%2Bi%0Aprint(sum)&mode=display&raw_input=&curInstr=26'\n",
    "IFrame(url, width=1000, height=600)\n",
    "\n"
   ]
  },
  {
   "cell_type": "markdown",
   "metadata": {
    "colab_type": "text",
    "id": "utxxWeAd154k"
   },
   "source": [
    "<設定標題三：>即時互動應用\n",
    "\n",
    "<設定連結名稱：>\n",
    "\n",
    "<建立連結：>\n",
    "* 名稱：Widget\n",
    "\n",
    "* 網址：https://ipython-books.github.io/33-mastering-widgets-in-the-jupyter-notebook/"
   ]
  },
  {
   "cell_type": "code",
   "execution_count": 3,
   "metadata": {
    "colab": {},
    "colab_type": "code",
    "id": "4dzihDZn0Vcw"
   },
   "outputs": [],
   "source": [
    "# 匯入應用組件\n",
    "from IPython.display import display\n",
    "from ipywidgets import interact, interactive, fixed, interact_manual\n",
    "import ipywidgets as widgets"
   ]
  }
 ],
 "metadata": {
  "celltoolbar": "Slideshow",
  "colab": {
   "collapsed_sections": [],
   "name": "Jupyter練習-以高斯為例",
   "provenance": []
  },
  "kernelspec": {
   "display_name": "Python Machine Learning",
   "language": "python",
   "name": "pyml"
  },
  "language_info": {
   "codemirror_mode": {
    "name": "ipython",
    "version": 3
   },
   "file_extension": ".py",
   "mimetype": "text/x-python",
   "name": "python",
   "nbconvert_exporter": "python",
   "pygments_lexer": "ipython3",
   "version": "3.7.0"
  },
  "nbTranslate": {
   "displayLangs": [
    "*"
   ],
   "hotkey": "alt-t",
   "langInMainMenu": true,
   "sourceLang": "en",
   "targetLang": "fr",
   "useGoogleTranslate": true
  },
  "toc": {
   "base_numbering": 1,
   "nav_menu": {},
   "number_sections": false,
   "sideBar": true,
   "skip_h1_title": false,
   "title_cell": "Table of Contents",
   "title_sidebar": "Contents",
   "toc_cell": false,
   "toc_position": {},
   "toc_section_display": true,
   "toc_window_display": false
  },
  "varInspector": {
   "cols": {
    "lenName": 16,
    "lenType": 16,
    "lenVar": 40
   },
   "kernels_config": {
    "python": {
     "delete_cmd_postfix": "",
     "delete_cmd_prefix": "del ",
     "library": "var_list.py",
     "varRefreshCmd": "print(var_dic_list())"
    },
    "r": {
     "delete_cmd_postfix": ") ",
     "delete_cmd_prefix": "rm(",
     "library": "var_list.r",
     "varRefreshCmd": "cat(var_dic_list()) "
    }
   },
   "types_to_exclude": [
    "module",
    "function",
    "builtin_function_or_method",
    "instance",
    "_Feature"
   ],
   "window_display": false
  }
 },
 "nbformat": 4,
 "nbformat_minor": 1
}
